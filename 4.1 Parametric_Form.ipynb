{
 "cells": [
  {
   "cell_type": "markdown",
   "id": "affd6630",
   "metadata": {
    "id": "affd6630"
   },
   "source": [
    "# Integrals Involving Parameters\n",
    "Author - Dibyajyoti Chakraborty"
   ]
  },
  {
   "cell_type": "code",
   "execution_count": 1,
   "id": "62c98f75",
   "metadata": {
    "colab": {
     "base_uri": "https://localhost:8080/"
    },
    "id": "62c98f75",
    "outputId": "b6108b63-eb77-4db8-e95c-d266ec7b85f6"
   },
   "outputs": [
    {
     "name": "stdout",
     "output_type": "stream",
     "text": [
      "cuda\n"
     ]
    }
   ],
   "source": [
    "import torch                    \n",
    "import matplotlib.pyplot as plt\n",
    "import numpy as np\n",
    "import time\n",
    "import DNNI\n",
    "torch.set_default_tensor_type(torch.DoubleTensor)\n",
    "device = torch.device('cuda' if torch.cuda.is_available() else 'cpu')\n",
    "print(device)"
   ]
  },
  {
   "cell_type": "markdown",
   "id": "2a3d8d31",
   "metadata": {
    "id": "2a3d8d31"
   },
   "source": [
    "$$\\int e^{ax}sin(ax) \\,dx$$\n",
    "Change the condition in the NNI class"
   ]
  },
  {
   "cell_type": "code",
   "execution_count": 6,
   "id": "11bd1bd6",
   "metadata": {
    "id": "11bd1bd6"
   },
   "outputs": [],
   "source": [
    "def f(X):\n",
    "    x=X[:,[0]]\n",
    "    a=X[:,[1]]\n",
    "    return torch.exp(a*x)*torch.sin(a*x)"
   ]
  },
  {
   "cell_type": "code",
   "execution_count": 7,
   "id": "82c1f9e9",
   "metadata": {
    "id": "82c1f9e9",
    "outputId": "21cbb1cc-b4d6-4634-ec3c-d24e75712b19"
   },
   "outputs": [
    {
     "data": {
      "text/plain": [
       "torch.Size([10000, 2])"
      ]
     },
     "execution_count": 7,
     "metadata": {},
     "output_type": "execute_result"
    }
   ],
   "source": [
    "x = np.linspace(0,1,100)\n",
    "a = np.linspace(0,1,100)\n",
    "X,A = np.meshgrid(x,a)\n",
    "x_train = torch.from_numpy(np.hstack((X.flatten()[:,None], A.flatten()[:,None]))).to(device)\n",
    "x_train.shape"
   ]
  },
  {
   "cell_type": "code",
   "execution_count": 8,
   "id": "e132c38b",
   "metadata": {
    "id": "e132c38b",
    "outputId": "921e94f2-46ea-4697-897a-ccaab3af87f1"
   },
   "outputs": [
    {
     "name": "stderr",
     "output_type": "stream",
     "text": [
      "  0%|▊                                                                                                                                                                   | 23/5000 [00:00<00:45, 109.61it/s]"
     ]
    },
    {
     "name": "stdout",
     "output_type": "stream",
     "text": [
      "Iter:  0 Loss:  3.224327532199911  lr:  0.01\n"
     ]
    },
    {
     "name": "stderr",
     "output_type": "stream",
     "text": [
      " 26%|█████████████████████████████████████████▎                                                                                                                        | 1276/5000 [00:05<00:16, 222.06it/s]"
     ]
    },
    {
     "name": "stdout",
     "output_type": "stream",
     "text": [
      "Iter:  1250 Loss:  1.694738770121264e-05  lr:  0.002\n"
     ]
    },
    {
     "name": "stderr",
     "output_type": "stream",
     "text": [
      " 51%|██████████████████████████████████████████████████████████████████████████████████▎                                                                               | 2540/5000 [00:11<00:11, 220.46it/s]"
     ]
    },
    {
     "name": "stdout",
     "output_type": "stream",
     "text": [
      "Iter:  2500 Loss:  4.3890970391585375e-06  lr:  0.0004\n"
     ]
    },
    {
     "name": "stderr",
     "output_type": "stream",
     "text": [
      " 76%|██████████████████████████████████████████████████████████████████████████████████████████████████████████████████████████▋                                       | 3785/5000 [00:17<00:05, 230.13it/s]"
     ]
    },
    {
     "name": "stdout",
     "output_type": "stream",
     "text": [
      "Iter:  3750 Loss:  2.793760835484012e-06  lr:  8e-05\n"
     ]
    },
    {
     "name": "stderr",
     "output_type": "stream",
     "text": [
      "100%|██████████████████████████████████████████████████████████████████████████████████████████████████████████████████████████████████████████████████████████████████| 5000/5000 [00:22<00:00, 221.55it/s]"
     ]
    },
    {
     "name": "stdout",
     "output_type": "stream",
     "text": [
      "MSE :  2.1668686038240196e-06\n"
     ]
    },
    {
     "name": "stderr",
     "output_type": "stream",
     "text": [
      "\n"
     ]
    }
   ],
   "source": [
    "steps=5000\n",
    "layers = np.array([2,10,10,10,1])\n",
    "inn = DNNI.DNNI(layers,device)\n",
    "inn.to(device)\n",
    "inn.closure(steps=steps,x_train=x_train,int_f=f)"
   ]
  },
  {
   "cell_type": "code",
   "execution_count": 9,
   "id": "dfd428a8",
   "metadata": {
    "colab": {
     "base_uri": "https://localhost:8080/"
    },
    "id": "dfd428a8",
    "outputId": "b80f1c2b-acda-4444-b209-d260fe18b484"
   },
   "outputs": [
    {
     "data": {
      "text/plain": [
       "torch.Size([10, 2])"
      ]
     },
     "execution_count": 9,
     "metadata": {},
     "output_type": "execute_result"
    }
   ],
   "source": [
    "a_test = 0.5*torch.ones(10)\n",
    "x_test = torch.linspace(0,1,10)\n",
    "x_t = torch.hstack((x_test[:,None],a_test[:,None])).to(device)\n",
    "x_t.shape"
   ]
  },
  {
   "cell_type": "code",
   "execution_count": 10,
   "id": "28a4ee18",
   "metadata": {
    "colab": {
     "base_uri": "https://localhost:8080/",
     "height": 329
    },
    "id": "28a4ee18",
    "outputId": "a6294bff-5431-43a2-86dc-c2fd494c6a79"
   },
   "outputs": [],
   "source": [
    "y = inn(x_t).detach().cpu().numpy()\n",
    "y_th = (torch.exp(0.5*x_test)*(torch.sin(0.5*x_test)-torch.cos(0.5*x_test))).detach().cpu().numpy()"
   ]
  },
  {
   "cell_type": "code",
   "execution_count": 11,
   "id": "97d34538",
   "metadata": {
    "id": "97d34538",
    "outputId": "c59438fd-643a-4f15-fd4a-6e25ba5a0d65"
   },
   "outputs": [
    {
     "data": {
      "text/plain": [
       "[<matplotlib.lines.Line2D at 0x7f6cab680fa0>]"
      ]
     },
     "execution_count": 11,
     "metadata": {},
     "output_type": "execute_result"
    },
    {
     "data": {
      "image/png": "[encoded data removed]",
      "text/plain": [
       "<Figure size 432x288 with 1 Axes>"
      ]
     },
     "metadata": {
      "needs_background": "light"
     },
     "output_type": "display_data"
    }
   ],
   "source": [
    "plt.plot(y)\n",
    "plt.plot(y_th)\n",
    "# Shifted plots because of an arbitrary constant. Can be subtracted ."
   ]
  },
  {
   "cell_type": "code",
   "execution_count": 12,
   "id": "a0769777",
   "metadata": {
    "id": "a0769777",
    "outputId": "65166d85-b2a3-4d2f-961a-010d0e07d627"
   },
   "outputs": [
    {
     "name": "stdout",
     "output_type": "stream",
     "text": [
      "-0.34355004662944566\n"
     ]
    }
   ],
   "source": [
    "print(y_th[0]-y_th[-1])"
   ]
  },
  {
   "cell_type": "code",
   "execution_count": 13,
   "id": "92306445",
   "metadata": {
    "id": "92306445",
    "outputId": "6523bfc7-55ba-458d-e4f3-24e4b0451e46"
   },
   "outputs": [
    {
     "name": "stdout",
     "output_type": "stream",
     "text": [
      "[-0.34332616]\n"
     ]
    }
   ],
   "source": [
    "print(y[0]-y[-1])"
   ]
  },
  {
   "cell_type": "markdown",
   "id": "9e84a86b",
   "metadata": {
    "id": "9e84a86b"
   },
   "source": [
    "# Perimeter of ellipse\n",
    "$$ \t4 \\int \\sqrt{a^2-(a^2-b^2)sin^2(\\theta)} \\,d\\theta$$"
   ]
  },
  {
   "cell_type": "code",
   "execution_count": 17,
   "id": "ee37b4a5",
   "metadata": {
    "id": "ee37b4a5"
   },
   "outputs": [],
   "source": [
    "def f2(X):\n",
    "    x = X[:,[0]]\n",
    "    a = X[:,[1]]\n",
    "    b = X[:,[2]]\n",
    "    e = torch.sqrt(a**2-b**2)/a\n",
    "    return 4*a*torch.sqrt(1-torch.square(e*torch.sin(x)))"
   ]
  },
  {
   "cell_type": "code",
   "execution_count": 18,
   "id": "7ea2843f",
   "metadata": {
    "id": "7ea2843f",
    "outputId": "9af79747-e57d-4368-d3da-6ce13e0b4477"
   },
   "outputs": [
    {
     "data": {
      "text/plain": [
       "torch.Size([57600, 3])"
      ]
     },
     "execution_count": 18,
     "metadata": {},
     "output_type": "execute_result"
    }
   ],
   "source": [
    "# Make input data\n",
    "x = np.linspace(0,np.pi/2,100)\n",
    "a = np.linspace(5,10,24)\n",
    "b = np.linspace(1,5,24)\n",
    "X,A,B = np.meshgrid(x,a,b)\n",
    "x_train = torch.from_numpy(np.hstack((X.flatten()[:,None], A.flatten()[:,None],B.flatten()[:,None]))).to(device)\n",
    "x_train.shape"
   ]
  },
  {
   "cell_type": "code",
   "execution_count": 19,
   "id": "7efb4a4b",
   "metadata": {
    "id": "7efb4a4b",
    "outputId": "aecc1bdd-8a32-46d1-bfaf-f3147562d7c9"
   },
   "outputs": [
    {
     "name": "stderr",
     "output_type": "stream",
     "text": [
      "  0%|                                                                                                                                                                    | 16/50000 [00:00<10:56, 76.09it/s]"
     ]
    },
    {
     "name": "stdout",
     "output_type": "stream",
     "text": [
      "Iter:  0 Loss:  551.1016242807585  lr:  0.01\n"
     ]
    },
    {
     "name": "stderr",
     "output_type": "stream",
     "text": [
      " 25%|████████████████████████████████████████▎                                                                                                                        | 12511/50000 [02:36<08:11, 76.25it/s]"
     ]
    },
    {
     "name": "stdout",
     "output_type": "stream",
     "text": [
      "Iter:  12500 Loss:  0.01822706779510757  lr:  0.002\n"
     ]
    },
    {
     "name": "stderr",
     "output_type": "stream",
     "text": [
      " 50%|████████████████████████████████████████████████████████████████████████████████▌                                                                                | 25016/50000 [05:13<05:15, 79.25it/s]"
     ]
    },
    {
     "name": "stdout",
     "output_type": "stream",
     "text": [
      "Iter:  25000 Loss:  0.0004887044693537427  lr:  0.0004\n"
     ]
    },
    {
     "name": "stderr",
     "output_type": "stream",
     "text": [
      " 75%|████████████████████████████████████████████████████████████████████████████████████████████████████████████████████████▊                                        | 37511/50000 [07:50<02:33, 81.39it/s]"
     ]
    },
    {
     "name": "stdout",
     "output_type": "stream",
     "text": [
      "Iter:  37500 Loss:  0.00022737678546101952  lr:  8e-05\n"
     ]
    },
    {
     "name": "stderr",
     "output_type": "stream",
     "text": [
      "100%|█████████████████████████████████████████████████████████████████████████████████████████████████████████████████████████████████████████████████████████████████| 50000/50000 [10:26<00:00, 79.75it/s]"
     ]
    },
    {
     "name": "stdout",
     "output_type": "stream",
     "text": [
      "MSE :  0.0002528055212569092\n"
     ]
    },
    {
     "name": "stderr",
     "output_type": "stream",
     "text": [
      "\n"
     ]
    }
   ],
   "source": [
    "steps=50000\n",
    "layers = np.array([3,20,20,20,20,20,20,1])\n",
    "inn2 = DNNI.DNNI(layers,device)\n",
    "inn2.to(device)\n",
    "inn2.closure(steps=steps,x_train=x_train,int_f=f2)"
   ]
  },
  {
   "cell_type": "code",
   "execution_count": 20,
   "id": "71c50088",
   "metadata": {
    "colab": {
     "base_uri": "https://localhost:8080/"
    },
    "id": "71c50088",
    "outputId": "661da0ae-887d-40a5-e9ea-c45afbdb33f7"
   },
   "outputs": [],
   "source": [
    "a_test = torch.linspace(5,10,6)\n",
    "b_test = torch.linspace(1,5,6)\n",
    "x_test = np.pi/2*torch.ones(6)\n",
    "x_test1 = torch.zeros(6)\n",
    "test = torch.from_numpy(np.hstack((x_test.flatten()[:,None], a_test.flatten()[:,None],b_test.flatten()[:,None])))\n",
    "test1 = torch.from_numpy(np.hstack((x_test1.flatten()[:,None], a_test.flatten()[:,None],b_test.flatten()[:,None])))\n",
    "#print(test)\n",
    "#print(test1)"
   ]
  },
  {
   "cell_type": "code",
   "execution_count": 22,
   "id": "dabb2511",
   "metadata": {
    "id": "dabb2511"
   },
   "outputs": [],
   "source": [
    "y_pi = inn2(test).detach().cpu().numpy()\n",
    "y = inn2(test1).detach().cpu().numpy()"
   ]
  },
  {
   "cell_type": "code",
   "execution_count": 23,
   "id": "2743043e",
   "metadata": {},
   "outputs": [
    {
     "name": "stdout",
     "output_type": "stream",
     "text": [
      "   a           b           Perimeter\n",
      "[[ 5.          1.         21.03439167]\n",
      " [ 6.          1.8        26.29762002]\n",
      " [ 7.          2.6        31.75970172]\n",
      " [ 8.          3.4        37.28223005]\n",
      " [ 9.          4.2        42.84975621]\n",
      " [10.          5.         48.44261874]]\n"
     ]
    }
   ],
   "source": [
    "print('   a           b           Perimeter')\n",
    "print(np.hstack(( a_test.flatten()[:,None],b_test.flatten()[:,None],(y_pi-y).flatten()[:,None])))# values have error of about 0.05%"
   ]
  },
  {
   "cell_type": "markdown",
   "id": "3ea9c15d",
   "metadata": {
    "id": "3ea9c15d"
   },
   "source": [
    "# Fermi-Dirac Integral\n",
    "$$ F(q,n)=\\int_0^{\\infty} \\frac{x^q}{e^{x-n}+1}$$\n"
   ]
  },
  {
   "cell_type": "code",
   "execution_count": 2,
   "id": "73f8d698",
   "metadata": {},
   "outputs": [],
   "source": [
    "def f3(X):\n",
    "    x = X[:,[0]]\n",
    "    q = X[:,[1]]\n",
    "    n = X[:,[2]]\n",
    "    f = torch.pow(x,q)/(torch.exp(x-n)+1)\n",
    "    return f"
   ]
  },
  {
   "cell_type": "code",
   "execution_count": 3,
   "id": "30793840",
   "metadata": {
    "colab": {
     "base_uri": "https://localhost:8080/"
    },
    "id": "30793840",
    "outputId": "4f85d3df-b7dd-439e-ab39-8d5580aa3e8e"
   },
   "outputs": [
    {
     "data": {
      "text/plain": [
       "torch.Size([533000, 3])"
      ]
     },
     "execution_count": 3,
     "metadata": {},
     "output_type": "execute_result"
    }
   ],
   "source": [
    "# Make input data\n",
    "x = np.linspace(0,25,1000) # 0-25 will do for 0-inf\n",
    "q = np.linspace(0,3,13)  \n",
    "n = np.linspace(-2,2,41)\n",
    "X,A,B = np.meshgrid(x,q,n)\n",
    "x_train = torch.from_numpy(np.hstack((X.flatten()[:,None], A.flatten()[:,None],B.flatten()[:,None]))).to(device)\n",
    "x_train.shape"
   ]
  },
  {
   "cell_type": "code",
   "execution_count": 5,
   "id": "131b4746",
   "metadata": {
    "colab": {
     "base_uri": "https://localhost:8080/"
    },
    "id": "131b4746",
    "outputId": "47c75a11-05fb-4d33-f4ea-0661161cfc73"
   },
   "outputs": [
    {
     "name": "stderr",
     "output_type": "stream",
     "text": [
      "  0%|                                                                                                                                                                     | 2/25000 [00:00<45:17,  9.20it/s]"
     ]
    },
    {
     "name": "stdout",
     "output_type": "stream",
     "text": [
      "Iter:  0 Loss:  0.1811056322797388  lr:  0.01\n"
     ]
    },
    {
     "name": "stderr",
     "output_type": "stream",
     "text": [
      " 25%|████████████████████████████████████████▌                                                                                                                         | 6252/25000 [10:45<32:30,  9.61it/s]"
     ]
    },
    {
     "name": "stdout",
     "output_type": "stream",
     "text": [
      "Iter:  6250 Loss:  3.1712472485747884e-05  lr:  0.002\n"
     ]
    },
    {
     "name": "stderr",
     "output_type": "stream",
     "text": [
      " 50%|████████████████████████████████████████████████████████████████████████████████▌                                                                                | 12502/25000 [21:30<21:27,  9.70it/s]"
     ]
    },
    {
     "name": "stdout",
     "output_type": "stream",
     "text": [
      "Iter:  12500 Loss:  3.9391766963477e-06  lr:  0.0004\n"
     ]
    },
    {
     "name": "stderr",
     "output_type": "stream",
     "text": [
      " 75%|████████████████████████████████████████████████████████████████████████████████████████████████████████████████████████▊                                        | 18752/25000 [32:14<10:47,  9.65it/s]"
     ]
    },
    {
     "name": "stdout",
     "output_type": "stream",
     "text": [
      "Iter:  18750 Loss:  4.316387247201906e-06  lr:  8e-05\n"
     ]
    },
    {
     "name": "stderr",
     "output_type": "stream",
     "text": [
      "100%|█████████████████████████████████████████████████████████████████████████████████████████████████████████████████████████████████████████████████████████████████| 25000/25000 [42:59<00:00,  9.69it/s]"
     ]
    },
    {
     "name": "stdout",
     "output_type": "stream",
     "text": [
      "MSE :  7.778579534731877e-07\n"
     ]
    },
    {
     "name": "stderr",
     "output_type": "stream",
     "text": [
      "\n"
     ]
    }
   ],
   "source": [
    "steps=25000\n",
    "layers = np.array([3,30,30,30,30,30,1])#[3,20,20,20,20,20,20,20,1]\n",
    "inn3 = DNNI.DNNI(layers,device)\n",
    "inn3.to(device)\n",
    "inn3.closure(steps=steps,x_train = x_train,int_f=f3,show=True)"
   ]
  },
  {
   "cell_type": "code",
   "execution_count": 9,
   "id": "e62d14f1",
   "metadata": {
    "colab": {
     "base_uri": "https://localhost:8080/"
    },
    "id": "e62d14f1",
    "outputId": "e787a157-f470-4d36-c1df-7c6859430b18"
   },
   "outputs": [],
   "source": [
    "q_test = torch.linspace(0,2,5)\n",
    "n_test = torch.linspace(-2,2,5)\n",
    "x_test = 25*torch.ones(5)\n",
    "x_test1 = torch.zeros(5)\n",
    "test = torch.from_numpy(np.hstack((x_test.flatten()[:,None], q_test.flatten()[:,None],n_test.flatten()[:,None])))\n",
    "test1 = torch.from_numpy(np.hstack((x_test1.flatten()[:,None], q_test.flatten()[:,None],n_test.flatten()[:,None])))\n",
    "#print(test)\n",
    "#print(test1)"
   ]
  },
  {
   "cell_type": "code",
   "execution_count": 10,
   "id": "eb959033",
   "metadata": {
    "id": "eb959033"
   },
   "outputs": [],
   "source": [
    "y_inf = inn3(test).detach().cpu().numpy()\n",
    "y = inn3(test1).detach().cpu().numpy()"
   ]
  },
  {
   "cell_type": "code",
   "execution_count": 11,
   "id": "4a177dd1",
   "metadata": {
    "scrolled": true
   },
   "outputs": [
    {
     "name": "stdout",
     "output_type": "stream",
     "text": [
      "   q           n           Integral\n",
      "[[ 0.         -2.          0.12468052]\n",
      " [ 0.5        -1.          0.28986771]\n",
      " [ 1.          0.          0.8233424 ]\n",
      " [ 1.5         1.          2.66133345]\n",
      " [ 2.          2.          9.51024877]]\n"
     ]
    }
   ],
   "source": [
    "print('   q           n           Integral')\n",
    "print(np.hstack(( q_test.flatten()[:,None],n_test.flatten()[:,None],(y_inf-y).flatten()[:,None])))# values have error of about 0.004"
   ]
  },
  {
   "cell_type": "markdown",
   "id": "438fec1e",
   "metadata": {
    "id": "af1bbf8a"
   },
   "source": [
    "# Relativistic Fermi-Dirac"
   ]
  },
  {
   "cell_type": "markdown",
   "id": "3fd7d31c",
   "metadata": {},
   "source": [
    "$$F(q,n,b)=\\int_0^{\\infty} \\frac{x^q\\sqrt{1+bx/2}}{e^{x-n}+1}\\,dx$$"
   ]
  },
  {
   "cell_type": "code",
   "execution_count": 3,
   "id": "4fe0bdaf",
   "metadata": {},
   "outputs": [],
   "source": [
    "def f4(X):\n",
    "    x = X[:,[0]]\n",
    "    q = X[:,[1]]\n",
    "    n = X[:,[2]]\n",
    "    b = X[:,[3]]\n",
    "    f = torch.pow(x,q)*torch.sqrt(1+b*x/2)/(torch.exp(x-n)+1)\n",
    "    return f"
   ]
  },
  {
   "cell_type": "code",
   "execution_count": 4,
   "id": "fa7eeb54",
   "metadata": {},
   "outputs": [
    {
     "data": {
      "text/plain": [
       "torch.Size([1205400, 4])"
      ]
     },
     "execution_count": 4,
     "metadata": {},
     "output_type": "execute_result"
    }
   ],
   "source": [
    "# Make input data\n",
    "x = np.geomspace(0.000001,25,200) # 0-25 will do for 0-inf\n",
    "x[0]=0\n",
    "q = np.linspace(0,3,7)  # only integers and 1/2,3/2... are important. \n",
    "n = np.linspace(-2,2,41) # more no of points for more accuracy\n",
    "b = np.linspace(0,2,21) \n",
    "X,Q,N,B = np.meshgrid(x,q,n,b)\n",
    "x_train = torch.from_numpy(np.hstack((X.flatten()[:,None], Q.flatten()[:,None], N.flatten()[:,None],B.flatten()[:,None]))).to(device)\n",
    "x_train.shape"
   ]
  },
  {
   "cell_type": "code",
   "execution_count": 5,
   "id": "361d1024",
   "metadata": {},
   "outputs": [
    {
     "name": "stderr",
     "output_type": "stream",
     "text": [
      "  0%|                                                                                                                                                                   | 1/25000 [00:00<3:33:08,  1.95it/s]"
     ]
    },
    {
     "name": "stdout",
     "output_type": "stream",
     "text": [
      "Iter:  0 Loss:  0.3020071650313373  lr:  0.01\n"
     ]
    },
    {
     "name": "stderr",
     "output_type": "stream",
     "text": [
      " 25%|████████████████████████████████████████                                                                                                                        | 6251/25000 [38:56<1:56:33,  2.68it/s]"
     ]
    },
    {
     "name": "stdout",
     "output_type": "stream",
     "text": [
      "Iter:  6250 Loss:  0.0006049788647388193  lr:  0.002\n"
     ]
    },
    {
     "name": "stderr",
     "output_type": "stream",
     "text": [
      " 50%|██████████████████████████████████████████████████████████████████████████████▌                                                                              | 12501/25000 [1:17:59<1:17:10,  2.70it/s]"
     ]
    },
    {
     "name": "stdout",
     "output_type": "stream",
     "text": [
      "Iter:  12500 Loss:  1.57719408393764e-05  lr:  0.0004\n"
     ]
    },
    {
     "name": "stderr",
     "output_type": "stream",
     "text": [
      " 75%|███████████████████████████████████████████████████████████████████████████████████████████████████████████████████████▎                                       | 18751/25000 [1:57:08<39:28,  2.64it/s]"
     ]
    },
    {
     "name": "stdout",
     "output_type": "stream",
     "text": [
      "Iter:  18750 Loss:  8.92191163047713e-06  lr:  8e-05\n"
     ]
    },
    {
     "name": "stderr",
     "output_type": "stream",
     "text": [
      "100%|███████████████████████████████████████████████████████████████████████████████████████████████████████████████████████████████████████████████████████████████| 25000/25000 [2:35:56<00:00,  2.67it/s]"
     ]
    },
    {
     "name": "stdout",
     "output_type": "stream",
     "text": [
      "MSE :  6.922342994986518e-06\n"
     ]
    },
    {
     "name": "stderr",
     "output_type": "stream",
     "text": [
      "\n"
     ]
    }
   ],
   "source": [
    "steps=25000\n",
    "layers = np.array([4,25,25,25,25,25,25,25,1])\n",
    "inn3 = DNNI.DNNI(layers,device)\n",
    "inn3.to(device)\n",
    "inn3.closure(steps=steps,x_train = x_train,int_f=f4,show=True)"
   ]
  },
  {
   "cell_type": "code",
   "execution_count": 15,
   "id": "840c2131",
   "metadata": {},
   "outputs": [],
   "source": [
    "q_test = torch.linspace(1,2.5,4)\n",
    "n_test = torch.linspace(-1,2,4)\n",
    "b_test = torch.linspace(0.5,2,4)\n",
    "x_test = 25*torch.ones(4)\n",
    "x_test1 = torch.zeros(4)\n",
    "test = torch.from_numpy(np.hstack((x_test.flatten()[:,None], q_test.flatten()[:,None],n_test.flatten()[:,None],b_test.flatten()[:,None])))\n",
    "test1 = torch.from_numpy(np.hstack((x_test1.flatten()[:,None], q_test.flatten()[:,None],n_test.flatten()[:,None],b_test.flatten()[:,None])))\n",
    "#print(test)\n",
    "#print(test1)"
   ]
  },
  {
   "cell_type": "code",
   "execution_count": 16,
   "id": "604a634b",
   "metadata": {},
   "outputs": [],
   "source": [
    "y_inf = inn3(test).detach().cpu().numpy()\n",
    "y = inn3(test1).detach().cpu().numpy()"
   ]
  },
  {
   "cell_type": "code",
   "execution_count": 17,
   "id": "7e7841da",
   "metadata": {},
   "outputs": [
    {
     "name": "stdout",
     "output_type": "stream",
     "text": [
      "   q           n           b            Integral\n",
      "[[ 1.         -1.          0.5         0.41499549]\n",
      " [ 1.5         0.          1.          1.74834439]\n",
      " [ 2.          1.          1.5         7.94319678]\n",
      " [ 2.5         2.          2.         38.88427763]]\n"
     ]
    }
   ],
   "source": [
    "print('   q           n           b            Integral')\n",
    "print(np.hstack(( q_test.flatten()[:,None],n_test.flatten()[:,None],b_test.flatten()[:,None],(y_inf-y).flatten()[:,None])))# values have error of about 0.004"
   ]
  },
  {
   "cell_type": "code",
   "execution_count": null,
   "id": "d5a2762b",
   "metadata": {},
   "outputs": [],
   "source": []
  }
 ],
 "metadata": {
  "accelerator": "GPU",
  "colab": {
   "name": "Parametric Form.ipynb",
   "provenance": []
  },
  "gpuClass": "standard",
  "kernelspec": {
   "display_name": "Python 3 (ipykernel)",
   "language": "python",
   "name": "python3"
  },
  "language_info": {
   "codemirror_mode": {
    "name": "ipython",
    "version": 3
   },
   "file_extension": ".py",
   "mimetype": "text/x-python",
   "name": "python",
   "nbconvert_exporter": "python",
   "pygments_lexer": "ipython3",
   "version": "3.9.12"
  }
 },
 "nbformat": 4,
 "nbformat_minor": 5
}
